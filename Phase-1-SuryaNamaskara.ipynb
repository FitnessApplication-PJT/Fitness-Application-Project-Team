{
 "cells": [
  {
   "cell_type": "code",
   "execution_count": null,
   "metadata": {},
   "outputs": [],
   "source": [
    "print(\"This Code is Useful For Detecting Angles of the Parts Required for the project\")"
   ]
  },
  {
   "cell_type": "markdown",
   "metadata": {},
   "source": [
    "Import and Install Dependencies.    "
   ]
  },
  {
   "cell_type": "code",
   "execution_count": null,
   "metadata": {},
   "outputs": [],
   "source": [
    "import cv2\n",
    "import mediapipe as mp\n",
    "import numpy as np\n",
    "mp_drawing=mp.solutions.drawing_utils\n",
    "mp_pose=mp.solutions.pose\n"
   ]
  },
  {
   "cell_type": "code",
   "execution_count": null,
   "metadata": {},
   "outputs": [],
   "source": [
    "cap=cv2.VideoCapture(0)\n",
    "while cap.isOpened():\n",
    "    ret,frame=cap.read()\n",
    "    cv2.imshow('Mediapipe feed',frame)\n",
    "    if(cv2.waitKey(10) & 0xFF==ord('q')):\n",
    "        break\n",
    "cap.release()\n",
    "cv2.destroyAllWindows()\n"
   ]
  },
  {
   "cell_type": "markdown",
   "metadata": {},
   "source": [
    "Make Detection."
   ]
  },
  {
   "cell_type": "code",
   "execution_count": 36,
   "metadata": {},
   "outputs": [],
   "source": [
    "def calculateAngle(a,b,c):\n",
    "    a=np.array(a) # First\n",
    "    b=np.array(b) # Mid\n",
    "    c=np.array(c) # End\n",
    "\n",
    "    x=np.arctan2(c[1]-b[1],c[0]-b[0])\n",
    "    y=np.arctan2(a[1]-b[1],a[0]-b[0])\n",
    "    radians=x-y\n",
    "    angle=np.abs(radians*180/np.pi)\n",
    "    if angle>180.0:\n",
    "        angle=360-angle\n",
    "    return angle\n"
   ]
  },
  {
   "cell_type": "code",
   "execution_count": 39,
   "metadata": {},
   "outputs": [],
   "source": [
    "import cv2\n",
    "import mediapipe as mp\n",
    "import numpy as np\n",
    "\n",
    "\n",
    "def calculateAngle(a, b, c):\n",
    "    a = np.array(a)  # First\n",
    "    b = np.array(b)  # Mid\n",
    "    c = np.array(c)  # End\n",
    "\n",
    "    x = np.arctan2(c[1] - b[1], c[0] - b[0])\n",
    "    y = np.arctan2(a[1] - b[1], a[0] - b[0])\n",
    "    radians = x - y\n",
    "    angle = np.abs(radians * 180 / np.pi)\n",
    "    if angle > 180.0:\n",
    "        angle = 360 - angle\n",
    "    return angle"
   ]
  },
  {
   "cell_type": "code",
   "execution_count": 41,
   "metadata": {},
   "outputs": [
    {
     "name": "stdout",
     "output_type": "stream",
     "text": [
      "Hele\n"
     ]
    }
   ],
   "source": [
    "import time\n",
    "time.sleep(5)\n",
    "state=0\n",
    "count=0\n",
    "# Initialize VideoCapture for the default camera\n",
    "cap = cv2.VideoCapture(0)\n",
    "\n",
    "# Setup MediaPipe Pose detection\n",
    "with mp_pose.Pose(min_detection_confidence=0.5, min_tracking_confidence=0.5) as pose:\n",
    "    while cap.isOpened():\n",
    "        ret, frame = cap.read()\n",
    "        if not ret:\n",
    "            break\n",
    "\n",
    "        # Convert frame to RGB\n",
    "        image = cv2.cvtColor(frame, cv2.COLOR_BGR2RGB)\n",
    "\n",
    "        # Make Pose detection\n",
    "        results = pose.process(image)\n",
    "\n",
    "        # Convert image back to BGR\n",
    "        image = cv2.cvtColor(image, cv2.COLOR_RGB2BGR)\n",
    "\n",
    "        try:\n",
    "            landmarks = results.pose_landmarks.landmark\n",
    "            shoulder = [landmarks[mp_pose.PoseLandmark.LEFT_SHOULDER.value].x, landmarks[mp_pose.PoseLandmark.LEFT_SHOULDER.value].y]\n",
    "            elbow = [landmarks[mp_pose.PoseLandmark.LEFT_ELBOW.value].x, landmarks[mp_pose.PoseLandmark.LEFT_ELBOW.value].y]\n",
    "            wrist = [landmarks[mp_pose.PoseLandmark.LEFT_WRIST.value].x, landmarks[mp_pose.PoseLandmark.LEFT_WRIST.value].y]\n",
    "            hip = [landmarks[mp_pose.PoseLandmark.LEFT_HIP.value].x, landmarks[mp_pose.PoseLandmark.LEFT_HIP.value].y]\n",
    "            knee = [landmarks[mp_pose.PoseLandmark.LEFT_KNEE.value].x, landmarks[mp_pose.PoseLandmark.LEFT_KNEE.value].y]\n",
    "\n",
    "            angleTop = calculateAngle(shoulder, elbow, wrist)\n",
    "            angleBottom = calculateAngle(shoulder, hip, knee)\n",
    "            text=\"InCorrect Posture\"\n",
    "            \n",
    "            ## First Detect Straight Posture.\n",
    "            if state==0:\n",
    "                \n",
    "                if angleBottom>172 & angleBottom<=180:\n",
    "                    state=1\n",
    "                    \n",
    "                else:\n",
    "                    text\n",
    "            elif state==1:\n",
    "                if angleTop>=40 & angleTop<=120:\n",
    "                    # Folded Hands Posture \n",
    "                    state=2\n",
    "                    # Completed the state-> Moving to next state.\n",
    "            \n",
    "            elif state==2:\n",
    "                ## Should Detect the back bending state.\n",
    "                if angleTop>=175 &  (angleBottom>=160 & angleBottom<172):\n",
    "                    state=3\n",
    "            \n",
    "            elif state==3:\n",
    "                ## Detect a Forward Bending  State.\n",
    "                if  angleBottom>=170 & angleBottom<=180 & angleTop>=50 & angleTop<=80:\n",
    "                    state=0\n",
    "                    ## Back to state -2\n",
    "                    count+=1\n",
    "\n",
    "\n",
    "            \n",
    "            # Display angles in a box at the top left corner\n",
    "            cv2.rectangle(image, (30, 30), (320, 90), (0, 0, 0), -1)\n",
    "            \n",
    "            cv.put\n",
    "\n",
    "            cv2.putText(image, f'Top Angle: {angleTop:.2f} degrees', (20, 40), cv2.FONT_HERSHEY_SIMPLEX, 1, (255, 255, 255), 2, cv2.LINE_AA)\n",
    "            cv2.putText(image, f'Bottom Angle: {angleBottom:.2f} degrees', (20, 80), cv2.FONT_HERSHEY_SIMPLEX, 1, (255, 255, 255), 2, cv2.LINE_AA)\n",
    "\n",
    "        except:\n",
    "            pass\n",
    "\n",
    "        mp_drawing.draw_landmarks(image, results.pose_landmarks, mp_pose.POSE_CONNECTIONS,\n",
    "                                  mp_drawing.DrawingSpec(color=(245, 117, 66), thickness=2, circle_radius=2),\n",
    "                                  mp_drawing.DrawingSpec(color=(245, 66, 230), thickness=3, circle_radius=2)\n",
    "                                  )\n",
    "\n",
    "        # Display the frame with landmarks\n",
    "        cv2.imshow('MediaPipe feed', image)\n",
    "\n",
    "        # Break the loop when 'q' is pressed\n",
    "        if cv2.waitKey(10) & 0xFF == ord('q'):\n",
    "            break\n",
    "\n",
    "# Release the camera and close the OpenCV windows\n",
    "cap.release()\n",
    "cv2.destroyAllWindows()\n",
    "print(\"Hele\")\n"
   ]
  },
  {
   "cell_type": "code",
   "execution_count": null,
   "metadata": {},
   "outputs": [],
   "source": []
  },
  {
   "cell_type": "code",
   "execution_count": null,
   "metadata": {},
   "outputs": [],
   "source": []
  },
  {
   "cell_type": "code",
   "execution_count": null,
   "metadata": {},
   "outputs": [],
   "source": []
  },
  {
   "cell_type": "markdown",
   "metadata": {},
   "source": [
    "  "
   ]
  },
  {
   "cell_type": "code",
   "execution_count": 35,
   "metadata": {},
   "outputs": [],
   "source": [
    "\n",
    "    "
   ]
  },
  {
   "cell_type": "code",
   "execution_count": null,
   "metadata": {},
   "outputs": [],
   "source": []
  },
  {
   "cell_type": "code",
   "execution_count": null,
   "metadata": {},
   "outputs": [],
   "source": []
  },
  {
   "cell_type": "code",
   "execution_count": null,
   "metadata": {},
   "outputs": [],
   "source": []
  },
  {
   "cell_type": "code",
   "execution_count": null,
   "metadata": {},
   "outputs": [],
   "source": []
  },
  {
   "cell_type": "code",
   "execution_count": null,
   "metadata": {},
   "outputs": [],
   "source": [
    "calculateAngle(shoulder,elbow,wrist)"
   ]
  },
  {
   "cell_type": "code",
   "execution_count": null,
   "metadata": {},
   "outputs": [],
   "source": []
  }
 ],
 "metadata": {
  "kernelspec": {
   "display_name": "Python 3",
   "language": "python",
   "name": "python3"
  },
  "language_info": {
   "codemirror_mode": {
    "name": "ipython",
    "version": 3
   },
   "file_extension": ".py",
   "mimetype": "text/x-python",
   "name": "python",
   "nbconvert_exporter": "python",
   "pygments_lexer": "ipython3",
   "version": "3.11.5"
  },
  "orig_nbformat": 4
 },
 "nbformat": 4,
 "nbformat_minor": 2
}
